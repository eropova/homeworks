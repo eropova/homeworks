{
 "cells": [
  {
   "cell_type": "markdown",
   "id": "ec14db31-fbad-4f4d-ba73-34c9a004a01a",
   "metadata": {},
   "source": [
    "#### Задача 1"
   ]
  },
  {
   "cell_type": "code",
   "execution_count": 1,
   "id": "8a8562a6-d3f8-4e36-85e4-8d9c47bdd8e0",
   "metadata": {},
   "outputs": [],
   "source": [
    "import paramiko, re"
   ]
  },
  {
   "cell_type": "code",
   "execution_count": 2,
   "id": "c47099dd-5343-44fd-b1b9-88770dd16a85",
   "metadata": {},
   "outputs": [],
   "source": [
    "clnt=paramiko.SSHClient()\n",
    "hostname='192.168.56.101'\n",
    "username='tatyana'\n",
    "pkey=paramiko.RSAKey.from_private_key_file('C:/Users/orange/.ssh/id_rsa')\n",
    "policy = paramiko.AutoAddPolicy\n",
    "clnt.set_missing_host_key_policy(policy)\n",
    "clnt.connect(hostname=hostname, username=username, pkey=pkey)\n",
    "stdin, stdout, stderr = clnt.exec_command('cat /etc/services')\n",
    "data = stdout.read() + stderr.read()\n",
    "clnt.close()"
   ]
  },
  {
   "cell_type": "code",
   "execution_count": 3,
   "id": "d964c1ad-f4a3-49ee-af91-ee190692cfb2",
   "metadata": {},
   "outputs": [],
   "source": [
    "data_decode = data.decode('utf8')\n",
    "out_data = re.findall(r'5.../udp', data_decode)"
   ]
  },
  {
   "cell_type": "code",
   "execution_count": 4,
   "id": "9b4f536c-5e88-40dd-85db-2c83380555ee",
   "metadata": {},
   "outputs": [
    {
     "data": {
      "text/plain": [
       "['5060/udp',\n",
       " '5061/udp',\n",
       " '5353/udp',\n",
       " '5672/udp',\n",
       " '5354/udp',\n",
       " '5355/udp',\n",
       " '5555/udp',\n",
       " '5345/udp']"
      ]
     },
     "execution_count": 4,
     "metadata": {},
     "output_type": "execute_result"
    }
   ],
   "source": [
    "out_data"
   ]
  },
  {
   "cell_type": "code",
   "execution_count": null,
   "id": "10b0626d-5b30-4423-bf1f-638b4a3db481",
   "metadata": {},
   "outputs": [],
   "source": []
  },
  {
   "cell_type": "markdown",
   "id": "3cc1b213-06a2-467c-94a4-7186a5762a5e",
   "metadata": {},
   "source": [
    "#### Задача 2"
   ]
  },
  {
   "cell_type": "code",
   "execution_count": 5,
   "id": "2f91eca9-ffbb-46f9-bb5a-4e5f6f201e81",
   "metadata": {},
   "outputs": [],
   "source": [
    "from matplotlib import pyplot as plt\n",
    "import pandas as pd"
   ]
  },
  {
   "cell_type": "code",
   "execution_count": 6,
   "id": "73f7876c-c25f-4da9-8c9e-c71f2a71e194",
   "metadata": {},
   "outputs": [],
   "source": [
    "df = pd.read_csv('C:/Users/orange/Downloads/SalesJan2009.csv')"
   ]
  },
  {
   "cell_type": "code",
   "execution_count": 7,
   "id": "9460e63b-89f0-408b-97ed-0a857c0c11bc",
   "metadata": {},
   "outputs": [
    {
     "data": {
      "text/html": [
       "<div>\n",
       "<style scoped>\n",
       "    .dataframe tbody tr th:only-of-type {\n",
       "        vertical-align: middle;\n",
       "    }\n",
       "\n",
       "    .dataframe tbody tr th {\n",
       "        vertical-align: top;\n",
       "    }\n",
       "\n",
       "    .dataframe thead th {\n",
       "        text-align: right;\n",
       "    }\n",
       "</style>\n",
       "<table border=\"1\" class=\"dataframe\">\n",
       "  <thead>\n",
       "    <tr style=\"text-align: right;\">\n",
       "      <th></th>\n",
       "      <th>Transaction_date</th>\n",
       "      <th>Product</th>\n",
       "      <th>Price</th>\n",
       "      <th>Payment_Type</th>\n",
       "      <th>Name</th>\n",
       "      <th>City</th>\n",
       "      <th>State</th>\n",
       "      <th>Country</th>\n",
       "      <th>Account_Created</th>\n",
       "      <th>Last_Login</th>\n",
       "      <th>...</th>\n",
       "      <th>Account_Created.day-of-month</th>\n",
       "      <th>Account_Created.day-of-week</th>\n",
       "      <th>Account_Created.hour</th>\n",
       "      <th>Account_Created.minute</th>\n",
       "      <th>Last_Login.year</th>\n",
       "      <th>Last_Login.month</th>\n",
       "      <th>Last_Login.day-of-month</th>\n",
       "      <th>Last_Login.day-of-week</th>\n",
       "      <th>Last_Login.hour</th>\n",
       "      <th>Last_Login.minute</th>\n",
       "    </tr>\n",
       "  </thead>\n",
       "  <tbody>\n",
       "    <tr>\n",
       "      <th>0</th>\n",
       "      <td>1/2/09 6:17</td>\n",
       "      <td>Product1</td>\n",
       "      <td>1200</td>\n",
       "      <td>Mastercard</td>\n",
       "      <td>carolina</td>\n",
       "      <td>Basildon</td>\n",
       "      <td>England</td>\n",
       "      <td>United Kingdom</td>\n",
       "      <td>1/2/09 6:00</td>\n",
       "      <td>1/2/09 6:08</td>\n",
       "      <td>...</td>\n",
       "      <td>2</td>\n",
       "      <td>5</td>\n",
       "      <td>6</td>\n",
       "      <td>0</td>\n",
       "      <td>9</td>\n",
       "      <td>1</td>\n",
       "      <td>2</td>\n",
       "      <td>5</td>\n",
       "      <td>6</td>\n",
       "      <td>8</td>\n",
       "    </tr>\n",
       "    <tr>\n",
       "      <th>1</th>\n",
       "      <td>1/2/09 4:53</td>\n",
       "      <td>Product1</td>\n",
       "      <td>1200</td>\n",
       "      <td>Visa</td>\n",
       "      <td>Betina</td>\n",
       "      <td>Parkville</td>\n",
       "      <td>MO</td>\n",
       "      <td>United States</td>\n",
       "      <td>1/2/09 4:42</td>\n",
       "      <td>1/2/09 7:49</td>\n",
       "      <td>...</td>\n",
       "      <td>2</td>\n",
       "      <td>5</td>\n",
       "      <td>4</td>\n",
       "      <td>42</td>\n",
       "      <td>9</td>\n",
       "      <td>1</td>\n",
       "      <td>2</td>\n",
       "      <td>5</td>\n",
       "      <td>7</td>\n",
       "      <td>49</td>\n",
       "    </tr>\n",
       "    <tr>\n",
       "      <th>2</th>\n",
       "      <td>1/2/09 13:08</td>\n",
       "      <td>Product1</td>\n",
       "      <td>1200</td>\n",
       "      <td>Mastercard</td>\n",
       "      <td>Federica e Andrea</td>\n",
       "      <td>Astoria</td>\n",
       "      <td>OR</td>\n",
       "      <td>United States</td>\n",
       "      <td>1/1/09 16:21</td>\n",
       "      <td>1/3/09 12:32</td>\n",
       "      <td>...</td>\n",
       "      <td>1</td>\n",
       "      <td>4</td>\n",
       "      <td>16</td>\n",
       "      <td>21</td>\n",
       "      <td>9</td>\n",
       "      <td>1</td>\n",
       "      <td>3</td>\n",
       "      <td>6</td>\n",
       "      <td>12</td>\n",
       "      <td>32</td>\n",
       "    </tr>\n",
       "    <tr>\n",
       "      <th>3</th>\n",
       "      <td>1/3/09 14:44</td>\n",
       "      <td>Product1</td>\n",
       "      <td>1200</td>\n",
       "      <td>Visa</td>\n",
       "      <td>Gouya</td>\n",
       "      <td>Echuca</td>\n",
       "      <td>Victoria</td>\n",
       "      <td>Australia</td>\n",
       "      <td>9/25/05 21:13</td>\n",
       "      <td>1/3/09 14:22</td>\n",
       "      <td>...</td>\n",
       "      <td>25</td>\n",
       "      <td>7</td>\n",
       "      <td>21</td>\n",
       "      <td>13</td>\n",
       "      <td>9</td>\n",
       "      <td>1</td>\n",
       "      <td>3</td>\n",
       "      <td>6</td>\n",
       "      <td>14</td>\n",
       "      <td>22</td>\n",
       "    </tr>\n",
       "    <tr>\n",
       "      <th>4</th>\n",
       "      <td>1/4/09 12:56</td>\n",
       "      <td>Product2</td>\n",
       "      <td>3600</td>\n",
       "      <td>Visa</td>\n",
       "      <td>Gerd W</td>\n",
       "      <td>Cahaba Heights</td>\n",
       "      <td>AL</td>\n",
       "      <td>United States</td>\n",
       "      <td>11/15/08 15:47</td>\n",
       "      <td>1/4/09 12:45</td>\n",
       "      <td>...</td>\n",
       "      <td>15</td>\n",
       "      <td>6</td>\n",
       "      <td>15</td>\n",
       "      <td>47</td>\n",
       "      <td>9</td>\n",
       "      <td>1</td>\n",
       "      <td>4</td>\n",
       "      <td>7</td>\n",
       "      <td>12</td>\n",
       "      <td>45</td>\n",
       "    </tr>\n",
       "  </tbody>\n",
       "</table>\n",
       "<p>5 rows × 30 columns</p>\n",
       "</div>"
      ],
      "text/plain": [
       "  Transaction_date   Product  Price Payment_Type               Name  \\\n",
       "0      1/2/09 6:17  Product1   1200   Mastercard           carolina   \n",
       "1      1/2/09 4:53  Product1   1200         Visa             Betina   \n",
       "2     1/2/09 13:08  Product1   1200   Mastercard  Federica e Andrea   \n",
       "3     1/3/09 14:44  Product1   1200         Visa              Gouya   \n",
       "4     1/4/09 12:56  Product2   3600         Visa             Gerd W   \n",
       "\n",
       "             City     State         Country Account_Created    Last_Login  \\\n",
       "0        Basildon   England  United Kingdom     1/2/09 6:00   1/2/09 6:08   \n",
       "1       Parkville        MO   United States     1/2/09 4:42   1/2/09 7:49   \n",
       "2         Astoria        OR   United States    1/1/09 16:21  1/3/09 12:32   \n",
       "3          Echuca  Victoria       Australia   9/25/05 21:13  1/3/09 14:22   \n",
       "4  Cahaba Heights        AL   United States  11/15/08 15:47  1/4/09 12:45   \n",
       "\n",
       "   ...  Account_Created.day-of-month  Account_Created.day-of-week  \\\n",
       "0  ...                             2                            5   \n",
       "1  ...                             2                            5   \n",
       "2  ...                             1                            4   \n",
       "3  ...                            25                            7   \n",
       "4  ...                            15                            6   \n",
       "\n",
       "   Account_Created.hour  Account_Created.minute  Last_Login.year  \\\n",
       "0                     6                       0                9   \n",
       "1                     4                      42                9   \n",
       "2                    16                      21                9   \n",
       "3                    21                      13                9   \n",
       "4                    15                      47                9   \n",
       "\n",
       "   Last_Login.month  Last_Login.day-of-month  Last_Login.day-of-week  \\\n",
       "0                 1                        2                       5   \n",
       "1                 1                        2                       5   \n",
       "2                 1                        3                       6   \n",
       "3                 1                        3                       6   \n",
       "4                 1                        4                       7   \n",
       "\n",
       "   Last_Login.hour  Last_Login.minute  \n",
       "0                6                  8  \n",
       "1                7                 49  \n",
       "2               12                 32  \n",
       "3               14                 22  \n",
       "4               12                 45  \n",
       "\n",
       "[5 rows x 30 columns]"
      ]
     },
     "execution_count": 7,
     "metadata": {},
     "output_type": "execute_result"
    }
   ],
   "source": [
    "df.head()"
   ]
  },
  {
   "cell_type": "code",
   "execution_count": 8,
   "id": "352ea0cc-fe6e-4e78-90e7-aa097a21bb43",
   "metadata": {},
   "outputs": [
    {
     "data": {
      "text/plain": [
       "Index(['Transaction_date', 'Product', 'Price', 'Payment_Type', 'Name', 'City',\n",
       "       'State', 'Country', 'Account_Created', 'Last_Login', 'Latitude',\n",
       "       'Longitude', 'Transaction_date.year', 'Transaction_date.month',\n",
       "       'Transaction_date.day-of-month', 'Transaction_date.day-of-week',\n",
       "       'Transaction_date.hour', 'Transaction_date.minute',\n",
       "       'Account_Created.year', 'Account_Created.month',\n",
       "       'Account_Created.day-of-month', 'Account_Created.day-of-week',\n",
       "       'Account_Created.hour', 'Account_Created.minute', 'Last_Login.year',\n",
       "       'Last_Login.month', 'Last_Login.day-of-month', 'Last_Login.day-of-week',\n",
       "       'Last_Login.hour', 'Last_Login.minute'],\n",
       "      dtype='object')"
      ]
     },
     "execution_count": 8,
     "metadata": {},
     "output_type": "execute_result"
    }
   ],
   "source": [
    "df.columns"
   ]
  },
  {
   "cell_type": "code",
   "execution_count": 9,
   "id": "2fbcb964-20d1-4d36-bb5e-d2f3b6ad79b5",
   "metadata": {},
   "outputs": [
    {
     "name": "stdout",
     "output_type": "stream",
     "text": [
      "<class 'pandas.core.frame.DataFrame'>\n",
      "RangeIndex: 998 entries, 0 to 997\n",
      "Data columns (total 30 columns):\n",
      " #   Column                         Non-Null Count  Dtype  \n",
      "---  ------                         --------------  -----  \n",
      " 0   Transaction_date               998 non-null    object \n",
      " 1   Product                        998 non-null    object \n",
      " 2   Price                          998 non-null    int64  \n",
      " 3   Payment_Type                   998 non-null    object \n",
      " 4   Name                           998 non-null    object \n",
      " 5   City                           998 non-null    object \n",
      " 6   State                          989 non-null    object \n",
      " 7   Country                        998 non-null    object \n",
      " 8   Account_Created                998 non-null    object \n",
      " 9   Last_Login                     998 non-null    object \n",
      " 10  Latitude                       998 non-null    float64\n",
      " 11  Longitude                      998 non-null    float64\n",
      " 12  Transaction_date.year          998 non-null    int64  \n",
      " 13  Transaction_date.month         998 non-null    int64  \n",
      " 14  Transaction_date.day-of-month  998 non-null    int64  \n",
      " 15  Transaction_date.day-of-week   998 non-null    int64  \n",
      " 16  Transaction_date.hour          998 non-null    int64  \n",
      " 17  Transaction_date.minute        998 non-null    int64  \n",
      " 18  Account_Created.year           998 non-null    int64  \n",
      " 19  Account_Created.month          998 non-null    int64  \n",
      " 20  Account_Created.day-of-month   998 non-null    int64  \n",
      " 21  Account_Created.day-of-week    998 non-null    int64  \n",
      " 22  Account_Created.hour           998 non-null    int64  \n",
      " 23  Account_Created.minute         998 non-null    int64  \n",
      " 24  Last_Login.year                998 non-null    int64  \n",
      " 25  Last_Login.month               998 non-null    int64  \n",
      " 26  Last_Login.day-of-month        998 non-null    int64  \n",
      " 27  Last_Login.day-of-week         998 non-null    int64  \n",
      " 28  Last_Login.hour                998 non-null    int64  \n",
      " 29  Last_Login.minute              998 non-null    int64  \n",
      "dtypes: float64(2), int64(19), object(9)\n",
      "memory usage: 234.0+ KB\n"
     ]
    }
   ],
   "source": [
    "df.info()"
   ]
  },
  {
   "cell_type": "markdown",
   "id": "cf8eb2af-0bbe-41dd-9e4a-f6ebe98af598",
   "metadata": {},
   "source": [
    "Общая информация по DF, названия колонок, типы данных"
   ]
  },
  {
   "cell_type": "code",
   "execution_count": 10,
   "id": "1ba9eff2-8ee3-4fbb-8ee2-d3989da9b89e",
   "metadata": {},
   "outputs": [],
   "source": [
    "avg_mastercard = df.query('Payment_Type == \"Mastercard\"')['Price'].mean()"
   ]
  },
  {
   "cell_type": "code",
   "execution_count": 11,
   "id": "98b21122-f720-43f5-ac2d-3d634842fe21",
   "metadata": {},
   "outputs": [
    {
     "data": {
      "text/plain": [
       "1655.0541516245487"
      ]
     },
     "execution_count": 11,
     "metadata": {},
     "output_type": "execute_result"
    }
   ],
   "source": [
    "avg_mastercard"
   ]
  },
  {
   "cell_type": "code",
   "execution_count": 12,
   "id": "c97dcc11-da1f-43ea-bb88-30b8fdc448f0",
   "metadata": {},
   "outputs": [],
   "source": [
    "df['date'] = pd.to_datetime(df['Transaction_date'], format='%m/%d/%y %H:%M').dt.round('d').astype('str')"
   ]
  },
  {
   "cell_type": "code",
   "execution_count": 13,
   "id": "4655dcc6-8f3b-46e1-9467-a80e617ed4d7",
   "metadata": {},
   "outputs": [],
   "source": [
    "payment_systems = df['Payment_Type'].drop_duplicates()"
   ]
  },
  {
   "cell_type": "code",
   "execution_count": 15,
   "id": "9fb4a764-2985-4ddc-aca6-3e2045277755",
   "metadata": {},
   "outputs": [
    {
     "data": {
      "image/png": "[encoded data removed]",
      "text/plain": [
       "<Figure size 432x288 with 1 Axes>"
      ]
     },
     "metadata": {
      "needs_background": "light"
     },
     "output_type": "display_data"
    },
    {
     "data": {
      "image/png": "[encoded data removed]",
      "text/plain": [
       "<Figure size 432x288 with 1 Axes>"
      ]
     },
     "metadata": {
      "needs_background": "light"
     },
     "output_type": "display_data"
    },
    {
     "data": {
      "image/png": "[encoded data removed]",
      "text/plain": [
       "<Figure size 432x288 with 1 Axes>"
      ]
     },
     "metadata": {
      "needs_background": "light"
     },
     "output_type": "display_data"
    },
    {
     "data": {
      "image/png": "[encoded data removed]",
      "text/plain": [
       "<Figure size 432x288 with 1 Axes>"
      ]
     },
     "metadata": {
      "needs_background": "light"
     },
     "output_type": "display_data"
    }
   ],
   "source": [
    "for _ in payment_systems:\n",
    "    df.query('Payment_Type == @_').groupby('date')['Price'].agg('sum').plot(kind='bar', title=_)\n",
    "    plt.show()"
   ]
  }
 ],
 "metadata": {
  "kernelspec": {
   "display_name": "Python 3 (ipykernel)",
   "language": "python",
   "name": "python3"
  },
  "language_info": {
   "codemirror_mode": {
    "name": "ipython",
    "version": 3
   },
   "file_extension": ".py",
   "mimetype": "text/x-python",
   "name": "python",
   "nbconvert_exporter": "python",
   "pygments_lexer": "ipython3",
   "version": "3.9.7"
  }
 },
 "nbformat": 4,
 "nbformat_minor": 5
}
