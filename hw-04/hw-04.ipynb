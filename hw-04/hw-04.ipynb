{
 "cells": [
  {
   "cell_type": "markdown",
   "id": "ec14db31-fbad-4f4d-ba73-34c9a004a01a",
   "metadata": {},
   "source": [
    "#### Задача 1"
   ]
  },
  {
   "cell_type": "code",
   "execution_count": 1,
   "id": "8a8562a6-d3f8-4e36-85e4-8d9c47bdd8e0",
   "metadata": {},
   "outputs": [],
   "source": [
    "import paramiko, re"
   ]
  },
  {
   "cell_type": "code",
   "execution_count": 3,
   "id": "c47099dd-5343-44fd-b1b9-88770dd16a85",
   "metadata": {},
   "outputs": [],
   "source": [
    "clnt=paramiko.SSHClient()\n",
    "hostname='192.168.56.101'\n",
    "username='tatyana'\n",
    "pkey=paramiko.RSAKey.from_private_key_file('C:/Users/orange/.ssh/id_rsa')\n",
    "policy = paramiko.AutoAddPolicy\n",
    "clnt.set_missing_host_key_policy(policy)\n",
    "clnt.connect(hostname=hostname, username=username, pkey=pkey)\n",
    "stdin, stdout, stderr = clnt.exec_command('cat /etc/services')\n",
    "data = stdout.read() + stderr.read()\n",
    "clnt.close()"
   ]
  },
  {
   "cell_type": "code",
   "execution_count": 67,
   "id": "d964c1ad-f4a3-49ee-af91-ee190692cfb2",
   "metadata": {},
   "outputs": [],
   "source": [
    "data_decode = data.decode('utf8')\n",
    "#print(data_decode.split(sep='\\n\\n'))\n"
   ]
  },
  {
   "cell_type": "code",
   "execution_count": 68,
   "id": "9b4f536c-5e88-40dd-85db-2c83380555ee",
   "metadata": {},
   "outputs": [
    {
     "data": {
      "text/plain": [
       "['sip 5060/udp',\n",
       " 'tls 5061/udp',\n",
       " 'mdns 5353/udp',\n",
       " 'amqp 5672/udp',\n",
       " 'noclog 5354/udp',\n",
       " 'hostmon 5355/udp',\n",
       " 'rplay 5555/udp']"
      ]
     },
     "execution_count": 68,
     "metadata": {},
     "output_type": "execute_result"
    }
   ],
   "source": [
    "out_data = re.findall(r'\\w*\\t\\t5\\d{3}/udp', data_decode)\n",
    "out_data = [i.replace('\\t\\t', ' ') for i in out_data]\n",
    "out_data"
   ]
  },
  {
   "cell_type": "code",
   "execution_count": null,
   "id": "10b0626d-5b30-4423-bf1f-638b4a3db481",
   "metadata": {},
   "outputs": [],
   "source": []
  },
  {
   "cell_type": "markdown",
   "id": "3cc1b213-06a2-467c-94a4-7186a5762a5e",
   "metadata": {},
   "source": [
    "#### Задача 2"
   ]
  },
  {
   "cell_type": "code",
   "execution_count": null,
   "id": "2f91eca9-ffbb-46f9-bb5a-4e5f6f201e81",
   "metadata": {},
   "outputs": [],
   "source": [
    "from matplotlib import pyplot as plt\n",
    "import pandas as pd"
   ]
  },
  {
   "cell_type": "code",
   "execution_count": null,
   "id": "73f7876c-c25f-4da9-8c9e-c71f2a71e194",
   "metadata": {},
   "outputs": [],
   "source": [
    "df = pd.read_csv('C:/Users/orange/Downloads/SalesJan2009.csv')"
   ]
  },
  {
   "cell_type": "code",
   "execution_count": null,
   "id": "9460e63b-89f0-408b-97ed-0a857c0c11bc",
   "metadata": {},
   "outputs": [],
   "source": [
    "df.head()"
   ]
  },
  {
   "cell_type": "code",
   "execution_count": null,
   "id": "352ea0cc-fe6e-4e78-90e7-aa097a21bb43",
   "metadata": {},
   "outputs": [],
   "source": [
    "df.columns"
   ]
  },
  {
   "cell_type": "code",
   "execution_count": null,
   "id": "2fbcb964-20d1-4d36-bb5e-d2f3b6ad79b5",
   "metadata": {},
   "outputs": [],
   "source": [
    "df.info()"
   ]
  },
  {
   "cell_type": "markdown",
   "id": "cf8eb2af-0bbe-41dd-9e4a-f6ebe98af598",
   "metadata": {},
   "source": [
    "<span style='color:green'>\n",
    "    \n",
    "*Общая информация по DF, названия колонок, типы данных*    \n",
    "    </span>"
   ]
  },
  {
   "cell_type": "code",
   "execution_count": null,
   "id": "1ba9eff2-8ee3-4fbb-8ee2-d3989da9b89e",
   "metadata": {},
   "outputs": [],
   "source": [
    "avg_mastercard = df.query('Payment_Type == \"Mastercard\"')['Price'].mean()"
   ]
  },
  {
   "cell_type": "code",
   "execution_count": null,
   "id": "98b21122-f720-43f5-ac2d-3d634842fe21",
   "metadata": {},
   "outputs": [],
   "source": [
    "avg_mastercard"
   ]
  },
  {
   "cell_type": "markdown",
   "id": "91253e14-36e8-469f-9efd-e059a8d54ef7",
   "metadata": {},
   "source": [
    "<span style='color:green'>\n",
    "    \n",
    "*Привела к дате, срезала минуты, вернула к тексту чтобы на графике не тянулись лишние нули*    \n",
    "    </span>"
   ]
  },
  {
   "cell_type": "code",
   "execution_count": null,
   "id": "c97dcc11-da1f-43ea-bb88-30b8fdc448f0",
   "metadata": {},
   "outputs": [],
   "source": [
    "df['date'] = pd.to_datetime(df['Transaction_date'], format='%m/%d/%y %H:%M').dt.floor('d').astype('str')"
   ]
  },
  {
   "cell_type": "code",
   "execution_count": null,
   "id": "59bdfe41-1a00-4579-8066-9dc35dcd5156",
   "metadata": {},
   "outputs": [],
   "source": [
    "df[['Transaction_date', 'date']].head(20)"
   ]
  },
  {
   "cell_type": "code",
   "execution_count": null,
   "id": "4655dcc6-8f3b-46e1-9467-a80e617ed4d7",
   "metadata": {},
   "outputs": [],
   "source": [
    "payment_systems = df['Payment_Type'].drop_duplicates()"
   ]
  },
  {
   "cell_type": "code",
   "execution_count": null,
   "id": "9fb4a764-2985-4ddc-aca6-3e2045277755",
   "metadata": {},
   "outputs": [],
   "source": [
    "for _ in payment_systems:\n",
    "    df.query('Payment_Type == @_').groupby('date')['Price'].agg('sum').plot(kind='bar', title=_)\n",
    "    plt.show()"
   ]
  },
  {
   "cell_type": "code",
   "execution_count": null,
   "id": "19e99f96-9920-474a-9109-928cf1d38cb4",
   "metadata": {},
   "outputs": [],
   "source": []
  }
 ],
 "metadata": {
  "kernelspec": {
   "display_name": "Python 3 (ipykernel)",
   "language": "python",
   "name": "python3"
  },
  "language_info": {
   "codemirror_mode": {
    "name": "ipython",
    "version": 3
   },
   "file_extension": ".py",
   "mimetype": "text/x-python",
   "name": "python",
   "nbconvert_exporter": "python",
   "pygments_lexer": "ipython3",
   "version": "3.9.7"
  }
 },
 "nbformat": 4,
 "nbformat_minor": 5
}
